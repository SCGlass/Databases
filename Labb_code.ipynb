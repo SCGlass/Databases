{
 "cells": [
  {
   "cell_type": "code",
   "execution_count": 1,
   "metadata": {},
   "outputs": [
    {
     "name": "stdout",
     "output_type": "stream",
     "text": [
      "Connecting to database using URL string:\n",
      "mssql+pyodbc://?odbc_connect=DRIVER=ODBC+Driver+17+for+SQL+Server;SERVER=localhost;DATABASE=Bookshop;Trusted_Connection=yes \n",
      "\n",
      "Successfully connected to Bookshop!\n"
     ]
    }
   ],
   "source": [
    "from sqlalchemy import create_engine\n",
    "from sqlalchemy.engine import URL\n",
    "from urllib.parse import unquote\n",
    "\n",
    "server_name   = \"localhost\"\n",
    "database_name = \"Bookshop\"\n",
    "\n",
    "connection_string = f\"DRIVER=ODBC Driver 17 for SQL Server;SERVER={server_name};DATABASE={database_name};Trusted_Connection=yes\"\n",
    "url_string        = URL.create(\"mssql+pyodbc\", query={\"odbc_connect\": connection_string})\n",
    "\n",
    "print('Connecting to database using URL string:')\n",
    "unquoted_url = unquote(str(url_string))\n",
    "print(unquoted_url, '\\n')\n",
    "\n",
    "try:    \n",
    "    engine = create_engine(url_string)\n",
    "    with engine.connect() as connection:\n",
    "        print(f'Successfully connected to {database_name}!')\n",
    "except Exception as e:\n",
    "    print('Error while connecting to database:\\n')\n",
    "    print(e)"
   ]
  },
  {
   "cell_type": "code",
   "execution_count": 7,
   "metadata": {},
   "outputs": [
    {
     "name": "stdout",
     "output_type": "stream",
     "text": [
      "Book Search : The Colour Of Magic\n",
      "\n",
      "Book TitleAmount                                            Shop\n",
      "The Colour Of Magic34                                                Bookworm\n",
      "The Colour Of Magic76                                                Cosy Reads\n",
      "The Colour Of Magic87                                                Book Knook\n",
      "select top 5\n",
      "\tb.Title,\n",
      "\ti.Amount,\n",
      "\ts.Name as 'Shop'\n",
      "\n",
      "from\n",
      "\tbooks b\n",
      "\tjoin Inventory i on b.ISBN13 = i.ISBN13\n",
      "\tjoin Shops s on i.Shop_Id = s.Shop_Id\n",
      "where \n",
      "    b.Title like '%The Colour Of Magic%'\n"
     ]
    }
   ],
   "source": [
    "from sqlalchemy import text\n",
    "\n",
    "search = input(\"Please enter a book title\")\n",
    "\n",
    "print(f\"Book Search : {search}\\n\")\n",
    "\n",
    "query = f\"\"\"select top 5\n",
    "\tb.Title,\n",
    "\ti.Amount,\n",
    "\ts.Name as 'Shop'\n",
    "\n",
    "from\n",
    "\tbooks b\n",
    "\tjoin Inventory i on b.ISBN13 = i.ISBN13\n",
    "\tjoin Shops s on i.Shop_Id = s.Shop_Id\n",
    "where \n",
    "    b.Title like '%{search}%'\"\"\"\n",
    "    \n",
    "with engine.connect() as conn:    \n",
    "    result = conn.execute(text(query))\n",
    "\n",
    "    print(f\"{'Book Title'.ljust(8)}{'Amount'.ljust(50)}{'Shop'}\")\n",
    "    \n",
    "    for book in result:\n",
    "        print(f\"{str(book.Title).ljust(8)}{str(book.Amount).ljust(50)}{book.Shop}\")\n",
    "\n",
    "    print(query)"
   ]
  }
 ],
 "metadata": {
  "kernelspec": {
   "display_name": "Databases-eHbeDLRq",
   "language": "python",
   "name": "python3"
  },
  "language_info": {
   "codemirror_mode": {
    "name": "ipython",
    "version": 3
   },
   "file_extension": ".py",
   "mimetype": "text/x-python",
   "name": "python",
   "nbconvert_exporter": "python",
   "pygments_lexer": "ipython3",
   "version": "3.9.13"
  },
  "orig_nbformat": 4
 },
 "nbformat": 4,
 "nbformat_minor": 2
}
