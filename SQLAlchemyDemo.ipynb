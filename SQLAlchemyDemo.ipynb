{
 "cells": [
  {
   "cell_type": "markdown",
   "metadata": {},
   "source": [
    "# Establishing a database connection\n",
    "\n",
    "### The Engine\n",
    "The start of any SQLAlchemy application is an object called the Engine. The engine is typically a global object created just once for a particular database server, and is configured using a URL string which will describe how it should connect to the database host or backend.\n",
    "\n",
    "The Engine is created by using create_engine()\n",
    "\n",
    "### The URL string\n",
    "The main argument to create_engine() is a URL string. This string indicates to the Engine three important facts:\n",
    "1. What kind of database are we communicating with? In our example we're using 'mssql' for Microsoft SQL Server.\n",
    "\n",
    "2. What DBAPI are we using? The Python DBAPI is a third party driver that SQLAlchemy uses to interact with a particular database. In this case, we’re using the name pyodbc, which is an open source Python module for accessing ODBC databases. (ODBC is a standard API for accessing databases.)\n",
    "\n",
    "3. How do we locate the database? In our case we need to specify the server and database name.\n",
    "\n",
    "### Getting a connection\n",
    "The sole purpose of the Engine object from a user-facing perspective is to provide a unit of connectivity to the database called the Connection. When working with the Core directly, the Connection object is how all interaction with the database is done. As the Connection represents an open resource against the database, we want to always limit the scope of our use of this object to a specific context, and the best way to do that is by using Python context manager form, also known as the with statement."
   ]
  },
  {
   "cell_type": "code",
   "execution_count": 1,
   "metadata": {},
   "outputs": [
    {
     "name": "stdout",
     "output_type": "stream",
     "text": [
      "Connecting to database using URL string:\n",
      "mssql+pyodbc://?odbc_connect=DRIVER=ODBC+Driver+17+for+SQL+Server;SERVER=localhost;DATABASE=Everyloop;Trusted_Connection=yes \n",
      "\n",
      "Successfully connected to Everyloop!\n"
     ]
    }
   ],
   "source": [
    "from sqlalchemy import create_engine\n",
    "from sqlalchemy.engine import URL\n",
    "from urllib.parse import unquote\n",
    "\n",
    "server_name   = \"localhost\"\n",
    "database_name = \"Everyloop\"\n",
    "\n",
    "connection_string = f\"DRIVER=ODBC Driver 17 for SQL Server;SERVER={server_name};DATABASE={database_name};Trusted_Connection=yes\"\n",
    "url_string        = URL.create(\"mssql+pyodbc\", query={\"odbc_connect\": connection_string})\n",
    "\n",
    "print('Connecting to database using URL string:')\n",
    "unquoted_url = unquote(str(url_string))\n",
    "print(unquoted_url, '\\n')\n",
    "\n",
    "try:    \n",
    "    engine = create_engine(url_string)\n",
    "    with engine.connect() as connection:\n",
    "        print(f'Successfully connected to {database_name}!')\n",
    "except Exception as e:\n",
    "    print('Error while connecting to database:\\n')\n",
    "    print(e)"
   ]
  },
  {
   "cell_type": "markdown",
   "metadata": {},
   "source": [
    "# Query database using raw SQL\n",
    " The text() construct allows us to write SQL statements as textual SQL. Rest assured that textual SQL in day-to-day SQLAlchemy use is by far the exception rather than the rule for most tasks, even though it always remains fully available.\n",
    "\n",
    " Let's create a simple query to be used in the examples below:"
   ]
  },
  {
   "cell_type": "code",
   "execution_count": 9,
   "metadata": {},
   "outputs": [
    {
     "data": {
      "text/plain": [
       "sqlalchemy.sql.elements.TextClause"
      ]
     },
     "execution_count": 9,
     "metadata": {},
     "output_type": "execute_result"
    }
   ],
   "source": [
    "from sqlalchemy import text\n",
    "\n",
    "query = text(\"SELECT TOP 5 Id, FirstName, LastName, Email FROM USERS ORDER BY FirstName, LastName\")\n",
    "type(query)"
   ]
  },
  {
   "cell_type": "markdown",
   "metadata": {},
   "source": [
    "### The Result Object\n",
    "When passing our query to Connection.execute() SQLAlchemy will submit the query to the server, which will respond by sending back the requested data (The result set). This result set will be represented as a Result Object returned by Connection.execute() once it gets the response from the server.\n",
    "\n",
    "Note that it’s best practice to ensure that this object is consumed within the “connect” block, and is not passed along outside of the scope of our connection.\n",
    "\n",
    "Let's look at a few examples of how to consume the returned result set:\n",
    "\n",
    "### Execute query and fetch all rows from result"
   ]
  },
  {
   "cell_type": "code",
   "execution_count": 10,
   "metadata": {},
   "outputs": [
    {
     "name": "stdout",
     "output_type": "stream",
     "text": [
      "[('741109-2058', 'Alexander', 'Dahl', 'alexander.dahl@telia.se'), ('530720-7675', 'Alvin', 'Lindholm', 'alvin.lindholm@gmail.com'), ('820624-3075', 'Anders', 'Hansson', 'anders.hansson@hotmail.com'), ('751123-9724', 'Anne', 'Åkerman', 'anne.akerman@hotmail.com'), ('620925-4245', 'Annette', 'Bergfalk', 'annette.bergfalk@telia.se')]\n"
     ]
    }
   ],
   "source": [
    "with engine.connect() as conn:\n",
    "    result = conn.execute(query)\n",
    "    \n",
    "    print(result.fetchall())"
   ]
  },
  {
   "cell_type": "markdown",
   "metadata": {},
   "source": [
    "### Execute query and iterate through result"
   ]
  },
  {
   "cell_type": "code",
   "execution_count": 4,
   "metadata": {},
   "outputs": [
    {
     "name": "stdout",
     "output_type": "stream",
     "text": [
      "Alexander Dahl\n",
      "Alvin Lindholm\n",
      "Anders Hansson\n",
      "Anne Åkerman\n",
      "Annette Bergfalk\n"
     ]
    }
   ],
   "source": [
    "with engine.connect() as conn:\n",
    "    result = conn.execute(query)\n",
    "\n",
    "    for row in result:\n",
    "        print(f\"{row.FirstName} {row.LastName}\")"
   ]
  },
  {
   "cell_type": "markdown",
   "metadata": {},
   "source": [
    "### Iterate column names and fields"
   ]
  },
  {
   "cell_type": "code",
   "execution_count": 12,
   "metadata": {},
   "outputs": [
    {
     "name": "stdout",
     "output_type": "stream",
     "text": [
      "ID                  FIRSTNAME           LASTNAME            EMAIL               \n",
      "741109-2058         Alexander           Dahl                alexander.dahl@telia.se\n",
      "530720-7675         Alvin               Lindholm            alvin.lindholm@gmail.com\n",
      "820624-3075         Anders              Hansson             anders.hansson@hotmail.com\n",
      "751123-9724         Anne                Åkerman             anne.akerman@hotmail.com\n",
      "620925-4245         Annette             Bergfalk            annette.bergfalk@telia.se\n"
     ]
    }
   ],
   "source": [
    "with engine.connect() as conn:\n",
    "    result = conn.execute(query)\n",
    "\n",
    "    for column_name in result.keys():\n",
    "        print(column_name.upper().ljust(20), end='')\n",
    "    \n",
    "    print()\n",
    "\n",
    "    for row in result:\n",
    "        for field in row:\n",
    "            print(field.ljust(20), end='')\n",
    "        \n",
    "        print()"
   ]
  },
  {
   "cell_type": "markdown",
   "metadata": {},
   "source": [
    "### Create DataFrames from query result\n",
    "Pandas and SQLAlchemy are a match made in Python heaven. They're individually amongst Python's most frequently used libraries. Together they're greater than the sum of their parts, thanks to Pandas' built-in SQLAlchemy integration."
   ]
  },
  {
   "cell_type": "code",
   "execution_count": 6,
   "metadata": {},
   "outputs": [
    {
     "name": "stdout",
     "output_type": "stream",
     "text": [
      "             FirstName  LastName                       Email\n",
      "Id                                                          \n",
      "741109-2058  Alexander      Dahl     alexander.dahl@telia.se\n",
      "530720-7675      Alvin  Lindholm    alvin.lindholm@gmail.com\n",
      "820624-3075     Anders   Hansson  anders.hansson@hotmail.com\n",
      "751123-9724       Anne   Åkerman    anne.akerman@hotmail.com\n",
      "620925-4245    Annette  Bergfalk   annette.bergfalk@telia.se\n"
     ]
    }
   ],
   "source": [
    "import pandas as pd\n",
    "\n",
    "df = pd.read_sql_query(query, con=engine, index_col=\"Id\")\n",
    "\n",
    "print(df)"
   ]
  },
  {
   "cell_type": "markdown",
   "metadata": {},
   "source": [
    "# Example search application (unsafe implementation)"
   ]
  },
  {
   "cell_type": "code",
   "execution_count": 7,
   "metadata": {},
   "outputs": [
    {
     "name": "stdout",
     "output_type": "stream",
     "text": [
      "Search string: hell\n",
      "\n"
     ]
    },
    {
     "ename": "ObjectNotExecutableError",
     "evalue": "Not an executable object: \"\\nselect top 10\\n    IATA, \\n    [Airport name] as 'name', \\n    [Location served] as 'location' \\nfrom \\n    airports \\nwhere \\n    [Location served] like '%hell%'\"",
     "output_type": "error",
     "traceback": [
      "\u001b[1;31m---------------------------------------------------------------------------\u001b[0m",
      "\u001b[1;31mAttributeError\u001b[0m                            Traceback (most recent call last)",
      "File \u001b[1;32mc:\\Users\\Sam Glass ITHS\\.virtualenvs\\Databases-eHbeDLRq\\lib\\site-packages\\sqlalchemy\\engine\\base.py:1409\u001b[0m, in \u001b[0;36mConnection.execute\u001b[1;34m(self, statement, parameters, execution_options)\u001b[0m\n\u001b[0;32m   1408\u001b[0m \u001b[39mtry\u001b[39;00m:\n\u001b[1;32m-> 1409\u001b[0m     meth \u001b[39m=\u001b[39m statement\u001b[39m.\u001b[39;49m_execute_on_connection\n\u001b[0;32m   1410\u001b[0m \u001b[39mexcept\u001b[39;00m \u001b[39mAttributeError\u001b[39;00m \u001b[39mas\u001b[39;00m err:\n",
      "\u001b[1;31mAttributeError\u001b[0m: 'str' object has no attribute '_execute_on_connection'",
      "\nThe above exception was the direct cause of the following exception:\n",
      "\u001b[1;31mObjectNotExecutableError\u001b[0m                  Traceback (most recent call last)",
      "Cell \u001b[1;32mIn[7], line 16\u001b[0m\n\u001b[0;32m      5\u001b[0m unsafe_query \u001b[39m=\u001b[39m \u001b[39mf\u001b[39m\u001b[39m\"\"\"\u001b[39m\n\u001b[0;32m      6\u001b[0m \u001b[39mselect top 10\u001b[39m\n\u001b[0;32m      7\u001b[0m \u001b[39m    IATA, \u001b[39m\n\u001b[1;32m   (...)\u001b[0m\n\u001b[0;32m     12\u001b[0m \u001b[39mwhere \u001b[39m\n\u001b[0;32m     13\u001b[0m \u001b[39m    [Location served] like \u001b[39m\u001b[39m'\u001b[39m\u001b[39m%\u001b[39m\u001b[39m{\u001b[39;00msearch_string\u001b[39m}\u001b[39;00m\u001b[39m%\u001b[39m\u001b[39m'\u001b[39m\u001b[39m\"\"\"\u001b[39m\n\u001b[0;32m     15\u001b[0m \u001b[39mwith\u001b[39;00m engine\u001b[39m.\u001b[39mconnect() \u001b[39mas\u001b[39;00m conn:    \n\u001b[1;32m---> 16\u001b[0m     result \u001b[39m=\u001b[39m conn\u001b[39m.\u001b[39;49mexecute(unsafe_query)\n\u001b[0;32m     18\u001b[0m     \u001b[39mprint\u001b[39m(\u001b[39mf\u001b[39m\u001b[39m\"\u001b[39m\u001b[39m{\u001b[39;00m\u001b[39m'\u001b[39m\u001b[39mIATA\u001b[39m\u001b[39m'\u001b[39m\u001b[39m.\u001b[39mljust(\u001b[39m8\u001b[39m)\u001b[39m}\u001b[39;00m\u001b[39m{\u001b[39;00m\u001b[39m'\u001b[39m\u001b[39mAirport name\u001b[39m\u001b[39m'\u001b[39m\u001b[39m.\u001b[39mljust(\u001b[39m50\u001b[39m)\u001b[39m}\u001b[39;00m\u001b[39m{\u001b[39;00m\u001b[39m'\u001b[39m\u001b[39mLocation\u001b[39m\u001b[39m'\u001b[39m\u001b[39m}\u001b[39;00m\u001b[39m\"\u001b[39m)\n\u001b[0;32m     20\u001b[0m     \u001b[39mfor\u001b[39;00m airport \u001b[39min\u001b[39;00m result:\n",
      "File \u001b[1;32mc:\\Users\\Sam Glass ITHS\\.virtualenvs\\Databases-eHbeDLRq\\lib\\site-packages\\sqlalchemy\\engine\\base.py:1411\u001b[0m, in \u001b[0;36mConnection.execute\u001b[1;34m(self, statement, parameters, execution_options)\u001b[0m\n\u001b[0;32m   1409\u001b[0m     meth \u001b[39m=\u001b[39m statement\u001b[39m.\u001b[39m_execute_on_connection\n\u001b[0;32m   1410\u001b[0m \u001b[39mexcept\u001b[39;00m \u001b[39mAttributeError\u001b[39;00m \u001b[39mas\u001b[39;00m err:\n\u001b[1;32m-> 1411\u001b[0m     \u001b[39mraise\u001b[39;00m exc\u001b[39m.\u001b[39mObjectNotExecutableError(statement) \u001b[39mfrom\u001b[39;00m \u001b[39merr\u001b[39;00m\n\u001b[0;32m   1412\u001b[0m \u001b[39melse\u001b[39;00m:\n\u001b[0;32m   1413\u001b[0m     \u001b[39mreturn\u001b[39;00m meth(\n\u001b[0;32m   1414\u001b[0m         \u001b[39mself\u001b[39m,\n\u001b[0;32m   1415\u001b[0m         distilled_parameters,\n\u001b[0;32m   1416\u001b[0m         execution_options \u001b[39mor\u001b[39;00m NO_OPTIONS,\n\u001b[0;32m   1417\u001b[0m     )\n",
      "\u001b[1;31mObjectNotExecutableError\u001b[0m: Not an executable object: \"\\nselect top 10\\n    IATA, \\n    [Airport name] as 'name', \\n    [Location served] as 'location' \\nfrom \\n    airports \\nwhere \\n    [Location served] like '%hell%'\""
     ]
    }
   ],
   "source": [
    "search_string = input(\"Search airports: \")\n",
    "\n",
    "print(f\"Search string: {search_string}\\n\")\n",
    "\n",
    "unsafe_query = f\"\"\"\n",
    "select top 10\n",
    "    IATA, \n",
    "    [Airport name] as 'name', \n",
    "    [Location served] as 'location' \n",
    "from \n",
    "    airports \n",
    "where \n",
    "    [Location served] like '%{search_string}%'\"\"\"\n",
    "\n",
    "with engine.connect() as conn:    \n",
    "    result = conn.execute(unsafe_query)\n",
    "\n",
    "    print(f\"{'IATA'.ljust(8)}{'Airport name'.ljust(50)}{'Location'}\")\n",
    "    \n",
    "    for airport in result:\n",
    "        print(f\"{str(airport.IATA).ljust(8)}{str(airport.name).ljust(50)}{airport.location}\")\n",
    "\n",
    "    print(unsafe_query)\n"
   ]
  },
  {
   "cell_type": "markdown",
   "metadata": {},
   "source": [
    "### SQL injection\n",
    "SQL injection is a code injection technique used to attack data-driven applications, in which malicious SQL statements are inserted into an entry field for execution (e.g. to dump the database contents to the attacker). SQL injection is mostly known as an attack vector for websites but can be used to attack any type of SQL database. Even though this vulnerability is known for over 20 years, injections still rank number 3 in the OWASP's Top 10 for web vulnerabilities.\n",
    "\n",
    "Every programmer involved in the development of applications that makes use of relational databases **SHOULD** know about SQL injection, and how to prevent it. Bad implementations of database interfaces, like the one in the example above, leaves **ALL** your data open for an attack. **ANY** database operation that can be made in a tool like Mangagement Studio can also be made through a web form, or similar user input, using SQL injection.\n",
    "\n",
    "---\n",
    "\n",
    "### Concatenation and dynamic queries\n",
    "The problem with the code above is that it creates a dynamic query by concatenating user inputed data together with predefined SQL. This gives the end-user, not the developer, the final say of what query we send to our DBMS. Consider the example below:\n",
    "\n",
    "The developer wants the user to be able to provide their name using a web form in order to do a database lookup for information about the user. The developer may think that concatenating the username into the query string before sending the request to the DBMS will solve the problem.\n",
    "\n",
    "`query = \"select * from users where username = '\" + username_input + \"';\"`\n",
    "\n",
    "This do solve the problem. If the user enters a valid name, the query string may look like this:\n",
    "\n",
    "`select * from users where username = 'Fredrik';`\n",
    "\n",
    "But what if the user enters the string '; drop database; -- instead? The query string will then look like this:\n",
    "\n",
    "`select * from users where username = ''; drop database; --'`\n",
    "\n",
    "As the application goes on and submits the query it will issue TWO statements to the DBMS: The first will return any row from Users where username is an empty string. The second will delete the database. The two dashes (--) at the end is a line comment to make sure any text after the seccond statement (in this case the ' at the end) is ignored and doesn't cause the query to be invalid.\n",
    "\n",
    "**YOU MUST NEVER ALLOW USER INPUT IN ANY PART OF YOUR QUERIES!**\n",
    "\n",
    "---\n",
    "\n",
    "### Parameterized queries\n",
    "The DBMS is built to be able to recieve the SQL statement and the user data seperatly. This is done by writting SQL using parameters. \n",
    "\n",
    "Here is an example of what that would look like in T-SQL:\n",
    "\n",
    "`Select * from users where username = @username_input;`\n",
    "\n",
    "Now we have a static SQL statment that can be sent to the server coupled with the value of the @username_input parameter. This way, the user can't modify the query itself, and we can be assured that the server interprets the query as we intended.\n",
    "\n",
    "**USER DATA IN QUERIES SHOULD ALWAYS BE PARAMETERIZED!**\n",
    "\n",
    "---\n",
    "\n",
    "### Bound parameters in SQLAlchemy\n",
    "\n",
    "SQLAlchemy's text() construct allows us to bind parameters using the named colon format (:param). This format is consistent regardless of database backend. To send values in for the parameters, we pass them into the Connection.execute() method as additional arguments.\n",
    "\n",
    "In the example below we use the bound parameter *:first_name* in the query, and then pass in the value of the python variable *name* when executing the query."
   ]
  },
  {
   "cell_type": "code",
   "execution_count": 8,
   "metadata": {},
   "outputs": [
    {
     "ename": "TypeError",
     "evalue": "execute() got an unexpected keyword argument 'first_name'",
     "output_type": "error",
     "traceback": [
      "\u001b[1;31m---------------------------------------------------------------------------\u001b[0m",
      "\u001b[1;31mTypeError\u001b[0m                                 Traceback (most recent call last)",
      "Cell \u001b[1;32mIn[8], line 6\u001b[0m\n\u001b[0;32m      3\u001b[0m parameterized_query \u001b[39m=\u001b[39m text(\u001b[39m\"\u001b[39m\u001b[39mSelect * from Users where FirstName = :first_name\u001b[39m\u001b[39m\"\u001b[39m)\n\u001b[0;32m      5\u001b[0m \u001b[39mwith\u001b[39;00m engine\u001b[39m.\u001b[39mconnect() \u001b[39mas\u001b[39;00m conn:    \n\u001b[1;32m----> 6\u001b[0m     result \u001b[39m=\u001b[39m conn\u001b[39m.\u001b[39;49mexecute(parameterized_query, first_name \u001b[39m=\u001b[39;49m name)\n\u001b[0;32m      7\u001b[0m     \u001b[39mprint\u001b[39m(result\u001b[39m.\u001b[39mfetchall())\n",
      "\u001b[1;31mTypeError\u001b[0m: execute() got an unexpected keyword argument 'first_name'"
     ]
    }
   ],
   "source": [
    "name = \"Anders\"\n",
    "\n",
    "parameterized_query = text(\"Select * from Users where FirstName = :first_name\")\n",
    "\n",
    "with engine.connect() as conn:    \n",
    "    result = conn.execute(parameterized_query, first_name = name)\n",
    "    print(result.fetchall())"
   ]
  },
  {
   "cell_type": "markdown",
   "metadata": {},
   "source": [
    "### Exercise\n",
    "Fix the airport search application above, and make it invulnerable to SQL injection attacks.\n",
    "\n",
    "For testing, you may try the search string: ';--\n",
    "\n",
    "This string will select **ALL** rows in the unfixed version off the app.\n",
    "\n",
    "When secured it should select **NO** rows, as no airport location contains the string: ';--"
   ]
  }
 ],
 "metadata": {
  "interpreter": {
   "hash": "20a7226863652f8ba572b8157b0b6305f423aae4f16ee7c5077a4756a16dc3cf"
  },
  "kernelspec": {
   "display_name": "Python 3.9.0 ('Learning_Python-3NYKqp0N')",
   "language": "python",
   "name": "python3"
  },
  "language_info": {
   "codemirror_mode": {
    "name": "ipython",
    "version": 3
   },
   "file_extension": ".py",
   "mimetype": "text/x-python",
   "name": "python",
   "nbconvert_exporter": "python",
   "pygments_lexer": "ipython3",
   "version": "3.9.13"
  },
  "orig_nbformat": 4
 },
 "nbformat": 4,
 "nbformat_minor": 2
}
